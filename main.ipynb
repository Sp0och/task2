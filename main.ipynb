{
 "cells": [
  {
   "cell_type": "markdown",
   "metadata": {},
   "source": [
    "# Task: Classification into 4 classes\n",
    "Challenges:  Huge amount of data (5117 x 17808)  => probably need to reduce dimensionality, also missing values and features with huge spreads\n"
   ]
  },
  {
   "cell_type": "code",
   "execution_count": 12,
   "metadata": {},
   "outputs": [],
   "source": [
    "import numpy as np\n",
    "import pandas as pd\n",
    "import matplotlib.pyplot as plt\n",
    "import random"
   ]
  },
  {
   "cell_type": "markdown",
   "metadata": {},
   "source": [
    "## Data Import – takes a while"
   ]
  },
  {
   "cell_type": "code",
   "execution_count": 32,
   "metadata": {},
   "outputs": [],
   "source": [
    "\n",
    "\n",
    "# import X_train.csv dataset into a pandas dataframe\n",
    "X_train = pd.read_csv(\"X_train.csv\").to_numpy()\n",
    "X_train = X_train[:,1:]  #remove the id column\n",
    "y_train = pd.read_csv(\"y_train.csv\").to_numpy()\n",
    "y_train = y_train[:,1]\n",
    "X_test = pd.read_csv(\"X_test.csv\").to_numpy()\n",
    "X_test = X_test[:,1:]"
   ]
  },
  {
   "cell_type": "code",
   "execution_count": 14,
   "metadata": {},
   "outputs": [
    {
     "name": "stdout",
     "output_type": "stream",
     "text": [
      "Training data shape:  (5117, 17807)\n"
     ]
    }
   ],
   "source": [
    "print(\"Training data shape: \", X_train.shape)"
   ]
  },
  {
   "cell_type": "markdown",
   "metadata": {},
   "source": [
    "## Peak at data\n",
    "Some features have a high number of outliers with a small standard deviation. How to account for those? Also there are again some std 0 features."
   ]
  },
  {
   "cell_type": "code",
   "execution_count": null,
   "metadata": {},
   "outputs": [],
   "source": [
    "# for i in range(100):\n",
    "#     index = random.randint(0,17807)\n",
    "#     data = X_train[:,index]\n",
    "#     std = np.round(np.nanstd(data), 2)\n",
    "#     plt.hist(X_train[:,index], bins=200, color='blue')\n",
    "#     plt.title(\"Histogram of feature values for sample {} with std {}\".format(index,std))\n",
    "#     plt.xlabel(\"Feature value\")\n",
    "#     plt.ylabel(\"Frequency\")\n",
    "#     plt.show()\n"
   ]
  },
  {
   "cell_type": "markdown",
   "metadata": {},
   "source": [
    "## Remove const features"
   ]
  },
  {
   "cell_type": "code",
   "execution_count": 34,
   "metadata": {},
   "outputs": [],
   "source": [
    "\n",
    "normalized_std_threshold = 0.002\n",
    "normalized_std = np.zeros(X_train.shape[1])\n",
    "means_abs = np.zeros(X_train.shape[1])\n",
    "for i in range(X_train.shape[1]):\n",
    "    vec = X_train[:,i]\n",
    "    means_abs[i] = np.abs(np.mean(vec[~np.isnan(vec)])) + 1\n",
    "    normalized_std[i] = np.std(vec[~np.isnan(vec)])/means_abs[i]\n",
    "\n",
    "mask = np.ones(len(normalized_std), dtype=bool)\n",
    "mask[normalized_std < normalized_std_threshold] = False\n"
   ]
  },
  {
   "cell_type": "code",
   "execution_count": 38,
   "metadata": {},
   "outputs": [
    {
     "name": "stdout",
     "output_type": "stream",
     "text": [
      "X train shape before:  (5117, 17807)\n",
      "X train shape after:  (5117, 17711)\n"
     ]
    }
   ],
   "source": [
    "# Remove features with std < 0.002\n",
    "print(\"X train shape before: \", X_train.shape)\n",
    "X_train0 = X_train[:,mask]\n",
    "X_test0 = X_test[:,mask]\n",
    "print(\"X train shape after: \", X_train0.shape)"
   ]
  }
 ],
 "metadata": {
  "kernelspec": {
   "display_name": "Python 3.9.13 64-bit",
   "language": "python",
   "name": "python3"
  },
  "language_info": {
   "codemirror_mode": {
    "name": "ipython",
    "version": 3
   },
   "file_extension": ".py",
   "mimetype": "text/x-python",
   "name": "python",
   "nbconvert_exporter": "python",
   "pygments_lexer": "ipython3",
   "version": "3.9.13"
  },
  "orig_nbformat": 4,
  "vscode": {
   "interpreter": {
    "hash": "aee8b7b246df8f9039afb4144a1f6fd8d2ca17a180786b69acc140d282b71a49"
   }
  }
 },
 "nbformat": 4,
 "nbformat_minor": 2
}
